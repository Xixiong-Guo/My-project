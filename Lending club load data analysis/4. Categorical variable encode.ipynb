{
 "cells": [
  {
   "cell_type": "code",
   "execution_count": 1,
   "metadata": {},
   "outputs": [],
   "source": [
    "import numpy as np\n",
    "import pandas as pd\n",
    "import seaborn as sns\n",
    "import matplotlib.pyplot as plt\n",
    "%matplotlib inline\n",
    "\n",
    "import warnings\n",
    "warnings.simplefilter('ignore')"
   ]
  },
  {
   "cell_type": "code",
   "execution_count": 2,
   "metadata": {},
   "outputs": [],
   "source": [
    "# import the preliminary cleaned data in last section\n",
    "train = pd.read_csv('./train_clean.csv')\n",
    "test = pd.read_csv('./test_clean.csv')"
   ]
  },
  {
   "cell_type": "code",
   "execution_count": 3,
   "metadata": {},
   "outputs": [
    {
     "name": "stdout",
     "output_type": "stream",
     "text": [
      "(1175854, 70)\n",
      "(120010, 70)\n"
     ]
    }
   ],
   "source": [
    "print(train.shape)\n",
    "print(test.shape)"
   ]
  },
  {
   "cell_type": "code",
   "execution_count": 4,
   "metadata": {},
   "outputs": [
    {
     "data": {
      "text/plain": [
       "Index(['term', 'int_rate', 'grade', 'sub_grade', 'home_ownership',\n",
       "       'verification_status', 'purpose', 'title', 'addr_state',\n",
       "       'earliest_cr_line', 'initial_list_status', 'application_type',\n",
       "       'hardship_flag', 'debt_settlement_flag'],\n",
       "      dtype='object')"
      ]
     },
     "execution_count": 4,
     "metadata": {},
     "output_type": "execute_result"
    }
   ],
   "source": [
    "train.columns[train.dtypes == object]"
   ]
  },
  {
   "cell_type": "markdown",
   "metadata": {},
   "source": [
    "## Categorical variable\n",
    "\n",
    "### term"
   ]
  },
  {
   "cell_type": "code",
   "execution_count": 5,
   "metadata": {},
   "outputs": [
    {
     "data": {
      "text/plain": [
       " 36 months    886826\n",
       " 60 months    289028\n",
       "Name: term, dtype: int64"
      ]
     },
     "execution_count": 5,
     "metadata": {},
     "output_type": "execute_result"
    }
   ],
   "source": [
    "train['term'].value_counts()"
   ]
  },
  {
   "cell_type": "code",
   "execution_count": 6,
   "metadata": {},
   "outputs": [
    {
     "data": {
      "text/plain": [
       " 36 months    86646\n",
       " 60 months    33364\n",
       "Name: term, dtype: int64"
      ]
     },
     "execution_count": 6,
     "metadata": {},
     "output_type": "execute_result"
    }
   ],
   "source": [
    "test['term'].value_counts()"
   ]
  },
  {
   "cell_type": "markdown",
   "metadata": {},
   "source": [
    "Only 36 months and 60 months, two categories. Use label-encoder to encode it, as it's order matters"
   ]
  },
  {
   "cell_type": "code",
   "execution_count": 7,
   "metadata": {},
   "outputs": [],
   "source": [
    "from sklearn.preprocessing import LabelEncoder\n",
    "term_encoder = LabelEncoder()\n",
    "term_encoder = term_encoder.fit(train['term'])\n",
    "\n",
    "train['term'] = term_encoder.transform(train['term'])\n",
    "test['term'] = term_encoder.transform(test['term'])"
   ]
  },
  {
   "cell_type": "markdown",
   "metadata": {},
   "source": [
    "### Int_rate"
   ]
  },
  {
   "cell_type": "code",
   "execution_count": 8,
   "metadata": {},
   "outputs": [],
   "source": [
    "# Delete \"%\", and transform to float type\n",
    "train['int_rate'] = train['int_rate'].str.strip(\"%\").astype(float)/100\n",
    "test['int_rate'] = test['int_rate'].str.strip(\"%\").astype(float)/100"
   ]
  },
  {
   "cell_type": "markdown",
   "metadata": {},
   "source": [
    "### Grade & sub_grade"
   ]
  },
  {
   "cell_type": "code",
   "execution_count": 9,
   "metadata": {},
   "outputs": [],
   "source": [
    "# order matters, so use label-encode\n",
    "grade_encoder = LabelEncoder()\n",
    "grade_encoder = grade_encoder.fit(train['grade'])\n",
    "\n",
    "train['grade'] = grade_encoder.transform(train['grade'])\n",
    "test['grade'] = grade_encoder.transform(test['grade'])"
   ]
  },
  {
   "cell_type": "code",
   "execution_count": 10,
   "metadata": {},
   "outputs": [],
   "source": [
    "sub_grade_encoder = LabelEncoder()\n",
    "sub_grade_encoder = grade_encoder.fit(train['sub_grade'])\n",
    "\n",
    "train['sub_grade'] = grade_encoder.transform(train['sub_grade'])\n",
    "test['sub_grade'] = grade_encoder.transform(test['sub_grade'])"
   ]
  },
  {
   "cell_type": "markdown",
   "metadata": {},
   "source": [
    "### home_owership"
   ]
  },
  {
   "cell_type": "code",
   "execution_count": 11,
   "metadata": {},
   "outputs": [
    {
     "data": {
      "text/plain": [
       "MORTGAGE    59588\n",
       "RENT        44917\n",
       "OWN         15324\n",
       "ANY           181\n",
       "Name: home_ownership, dtype: int64"
      ]
     },
     "execution_count": 11,
     "metadata": {},
     "output_type": "execute_result"
    }
   ],
   "source": [
    "test['home_ownership'].value_counts()"
   ]
  },
  {
   "cell_type": "code",
   "execution_count": 12,
   "metadata": {},
   "outputs": [
    {
     "data": {
      "text/plain": [
       "MORTGAGE    577403\n",
       "RENT        465761\n",
       "OWN         132366\n",
       "ANY            320\n",
       "NONE             4\n",
       "Name: home_ownership, dtype: int64"
      ]
     },
     "execution_count": 12,
     "metadata": {},
     "output_type": "execute_result"
    }
   ],
   "source": [
    "train['home_ownership'].value_counts()"
   ]
  },
  {
   "cell_type": "code",
   "execution_count": 13,
   "metadata": {},
   "outputs": [],
   "source": [
    "# train data has one more category than test, None will be added to ANY here\n",
    "train.loc[train['home_ownership'].isin(['NONE']), 'home_ownership'] = 'ANY'\n",
    "\n",
    "# Orders do not matter. Ready to use one-hot encoding later."
   ]
  },
  {
   "cell_type": "markdown",
   "metadata": {},
   "source": [
    "### Verification_status\n",
    "Orders do not matter. Keep it for now."
   ]
  },
  {
   "cell_type": "markdown",
   "metadata": {},
   "source": [
    "### purpose & title\n",
    "These two features are found to represent similar attribute: why they loan?\n",
    "It is reasonable to keep only one, and delete another one. Here, I choose to keep purpose, and delete title."
   ]
  },
  {
   "cell_type": "code",
   "execution_count": 14,
   "metadata": {},
   "outputs": [
    {
     "data": {
      "text/plain": [
       "debt_consolidation    686835\n",
       "credit_card           260243\n",
       "home_improvement       77891\n",
       "other                  67222\n",
       "major_purchase         24461\n",
       "medical                13723\n",
       "small_business         11563\n",
       "car                    11500\n",
       "moving                  8183\n",
       "vacation                8144\n",
       "house                   5344\n",
       "renewable_energy         730\n",
       "wedding                   13\n",
       "educational                2\n",
       "Name: purpose, dtype: int64"
      ]
     },
     "execution_count": 14,
     "metadata": {},
     "output_type": "execute_result"
    }
   ],
   "source": [
    "train['purpose'].value_counts()"
   ]
  },
  {
   "cell_type": "code",
   "execution_count": 15,
   "metadata": {},
   "outputs": [],
   "source": [
    "# Merge the sample number, which is less than 1000, into 'other'\n",
    "lists = ['renewable_energy','wedding','educational']\n",
    "\n",
    "train.loc[train['purpose'].isin(lists), 'purpose'] = 'other'\n",
    "test.loc[test['purpose'].isin(lists), 'purpose'] = 'other'\n",
    "\n",
    "# Drop title column\n",
    "train = train.drop(labels=['title'], axis=1)\n",
    "test = test.drop(labels=['title'], axis=1)"
   ]
  },
  {
   "cell_type": "markdown",
   "metadata": {},
   "source": [
    "### earliest_cr_line"
   ]
  },
  {
   "cell_type": "code",
   "execution_count": 16,
   "metadata": {},
   "outputs": [],
   "source": [
    "# extract `earliest_year` information\n",
    "train['earliest_year'] = train['earliest_cr_line'].apply(lambda x: x.split('-')[1])\n",
    "test['earliest_year'] = test['earliest_cr_line'].apply(lambda x: x.split('-')[1])\n",
    "\n",
    "train['earliest_year'] = train['earliest_year'].astype(int)\n",
    "test['earliest_year'] = test['earliest_year'].astype(int)"
   ]
  },
  {
   "cell_type": "code",
   "execution_count": 17,
   "metadata": {},
   "outputs": [],
   "source": [
    "# create new column called 'credit_length'\n",
    "train['credit_length'] = train['year'] - train['earliest_year']\n",
    "test['credit_length'] = test['year'] - test['earliest_year']"
   ]
  },
  {
   "cell_type": "code",
   "execution_count": 18,
   "metadata": {},
   "outputs": [],
   "source": [
    "# remove 'year', 'earliest_cr_line' and 'earliest_year'\n",
    "train = train.drop(labels=['year', 'earliest_cr_line', 'earliest_year'], axis=1)\n",
    "test = test.drop(labels=['year', 'earliest_cr_line', 'earliest_year'], axis=1)"
   ]
  },
  {
   "cell_type": "markdown",
   "metadata": {},
   "source": [
    "### installment , annual_inc, and loan_amnt¶\n",
    "\n",
    "For installment, use a installment / loan_amnt, can better reflect the ratio of each loan\n",
    "\n",
    "For loan_amnt, considering the salary of each borrower varies, so replace it with the variable of loan_amnt / annual_inc"
   ]
  },
  {
   "cell_type": "code",
   "execution_count": null,
   "metadata": {},
   "outputs": [],
   "source": [
    "train['installment_ratio'] = train['installment'] / train['loan_amnt']\n",
    "test['installment_ratio'] = test['installment'] / test['loan_amnt']\n",
    "\n",
    "train['loan_to_inc'] = train['loan_amnt'] / (train['annual_inc'])\n",
    "test['loan_to_inc'] = test['loan_amnt'] / (test['annual_inc'])\n",
    "\n",
    "train = train.drop(labels='installment', axis=1)\n",
    "test = test.drop(labels='installment', axis=1)"
   ]
  },
  {
   "cell_type": "code",
   "execution_count": null,
   "metadata": {},
   "outputs": [],
   "source": [
    "# save to disk\n",
    "train.to_csv('./train_clean.csv', index=False)\n",
    "test.to_csv('./test_clean.csv', index=False)\n",
    "\n",
    "print('Training set:\\t', train.shape)\n",
    "print('Test set:\\t', test.shape)"
   ]
  },
  {
   "cell_type": "code",
   "execution_count": null,
   "metadata": {},
   "outputs": [],
   "source": []
  }
 ],
 "metadata": {
  "kernelspec": {
   "display_name": "Python 3",
   "language": "python",
   "name": "python3"
  },
  "language_info": {
   "codemirror_mode": {
    "name": "ipython",
    "version": 3
   },
   "file_extension": ".py",
   "mimetype": "text/x-python",
   "name": "python",
   "nbconvert_exporter": "python",
   "pygments_lexer": "ipython3",
   "version": "3.7.1"
  }
 },
 "nbformat": 4,
 "nbformat_minor": 2
}
