{
 "cells": [
  {
   "cell_type": "code",
   "execution_count": 1,
   "metadata": {},
   "outputs": [],
   "source": [
    "import numpy as np\n",
    "import pandas as pd\n",
    "\n",
    "import warnings\n",
    "warnings.simplefilter('ignore')"
   ]
  },
  {
   "cell_type": "code",
   "execution_count": 2,
   "metadata": {},
   "outputs": [
    {
     "data": {
      "text/html": [
       "<div>\n",
       "<style scoped>\n",
       "    .dataframe tbody tr th:only-of-type {\n",
       "        vertical-align: middle;\n",
       "    }\n",
       "\n",
       "    .dataframe tbody tr th {\n",
       "        vertical-align: top;\n",
       "    }\n",
       "\n",
       "    .dataframe thead th {\n",
       "        text-align: right;\n",
       "    }\n",
       "</style>\n",
       "<table border=\"1\" class=\"dataframe\">\n",
       "  <thead>\n",
       "    <tr style=\"text-align: right;\">\n",
       "      <th></th>\n",
       "      <th>loan_amnt</th>\n",
       "      <th>funded_amnt</th>\n",
       "      <th>funded_amnt_inv</th>\n",
       "      <th>term</th>\n",
       "      <th>int_rate</th>\n",
       "      <th>installment</th>\n",
       "      <th>grade</th>\n",
       "      <th>sub_grade</th>\n",
       "      <th>emp_title</th>\n",
       "      <th>emp_length</th>\n",
       "      <th>...</th>\n",
       "      <th>percent_bc_gt_75</th>\n",
       "      <th>pub_rec_bankruptcies</th>\n",
       "      <th>tax_liens</th>\n",
       "      <th>tot_hi_cred_lim</th>\n",
       "      <th>total_bal_ex_mort</th>\n",
       "      <th>total_bc_limit</th>\n",
       "      <th>total_il_high_credit_limit</th>\n",
       "      <th>hardship_flag</th>\n",
       "      <th>debt_settlement_flag</th>\n",
       "      <th>year</th>\n",
       "    </tr>\n",
       "  </thead>\n",
       "  <tbody>\n",
       "    <tr>\n",
       "      <th>0</th>\n",
       "      <td>10400.0</td>\n",
       "      <td>10400.0</td>\n",
       "      <td>10400.0</td>\n",
       "      <td>36 months</td>\n",
       "      <td>6.99%</td>\n",
       "      <td>321.08</td>\n",
       "      <td>A</td>\n",
       "      <td>A3</td>\n",
       "      <td>Truck Driver Delivery Personel</td>\n",
       "      <td>8 years</td>\n",
       "      <td>...</td>\n",
       "      <td>14.3</td>\n",
       "      <td>0.0</td>\n",
       "      <td>0.0</td>\n",
       "      <td>179407.0</td>\n",
       "      <td>15030.0</td>\n",
       "      <td>13000.0</td>\n",
       "      <td>11325.0</td>\n",
       "      <td>N</td>\n",
       "      <td>N</td>\n",
       "      <td>2014</td>\n",
       "    </tr>\n",
       "    <tr>\n",
       "      <th>1</th>\n",
       "      <td>15000.0</td>\n",
       "      <td>15000.0</td>\n",
       "      <td>15000.0</td>\n",
       "      <td>60 months</td>\n",
       "      <td>12.39%</td>\n",
       "      <td>336.64</td>\n",
       "      <td>C</td>\n",
       "      <td>C1</td>\n",
       "      <td>MANAGEMENT</td>\n",
       "      <td>10+ years</td>\n",
       "      <td>...</td>\n",
       "      <td>0.0</td>\n",
       "      <td>0.0</td>\n",
       "      <td>0.0</td>\n",
       "      <td>196500.0</td>\n",
       "      <td>149140.0</td>\n",
       "      <td>10000.0</td>\n",
       "      <td>12000.0</td>\n",
       "      <td>N</td>\n",
       "      <td>N</td>\n",
       "      <td>2014</td>\n",
       "    </tr>\n",
       "    <tr>\n",
       "      <th>2</th>\n",
       "      <td>9600.0</td>\n",
       "      <td>9600.0</td>\n",
       "      <td>9600.0</td>\n",
       "      <td>36 months</td>\n",
       "      <td>13.66%</td>\n",
       "      <td>326.53</td>\n",
       "      <td>C</td>\n",
       "      <td>C3</td>\n",
       "      <td>Admin Specialist</td>\n",
       "      <td>10+ years</td>\n",
       "      <td>...</td>\n",
       "      <td>60.0</td>\n",
       "      <td>0.0</td>\n",
       "      <td>0.0</td>\n",
       "      <td>52490.0</td>\n",
       "      <td>38566.0</td>\n",
       "      <td>21100.0</td>\n",
       "      <td>24890.0</td>\n",
       "      <td>N</td>\n",
       "      <td>N</td>\n",
       "      <td>2014</td>\n",
       "    </tr>\n",
       "    <tr>\n",
       "      <th>3</th>\n",
       "      <td>7650.0</td>\n",
       "      <td>7650.0</td>\n",
       "      <td>7650.0</td>\n",
       "      <td>36 months</td>\n",
       "      <td>13.66%</td>\n",
       "      <td>260.20</td>\n",
       "      <td>C</td>\n",
       "      <td>C3</td>\n",
       "      <td>Technical Specialist</td>\n",
       "      <td>&lt; 1 year</td>\n",
       "      <td>...</td>\n",
       "      <td>100.0</td>\n",
       "      <td>0.0</td>\n",
       "      <td>0.0</td>\n",
       "      <td>82331.0</td>\n",
       "      <td>64426.0</td>\n",
       "      <td>4900.0</td>\n",
       "      <td>64031.0</td>\n",
       "      <td>N</td>\n",
       "      <td>N</td>\n",
       "      <td>2014</td>\n",
       "    </tr>\n",
       "    <tr>\n",
       "      <th>4</th>\n",
       "      <td>12800.0</td>\n",
       "      <td>12800.0</td>\n",
       "      <td>12800.0</td>\n",
       "      <td>60 months</td>\n",
       "      <td>17.14%</td>\n",
       "      <td>319.08</td>\n",
       "      <td>D</td>\n",
       "      <td>D4</td>\n",
       "      <td>Senior Sales Professional</td>\n",
       "      <td>10+ years</td>\n",
       "      <td>...</td>\n",
       "      <td>100.0</td>\n",
       "      <td>0.0</td>\n",
       "      <td>0.0</td>\n",
       "      <td>368700.0</td>\n",
       "      <td>18007.0</td>\n",
       "      <td>4400.0</td>\n",
       "      <td>18000.0</td>\n",
       "      <td>N</td>\n",
       "      <td>N</td>\n",
       "      <td>2014</td>\n",
       "    </tr>\n",
       "  </tbody>\n",
       "</table>\n",
       "<p>5 rows × 87 columns</p>\n",
       "</div>"
      ],
      "text/plain": [
       "   loan_amnt  funded_amnt  funded_amnt_inv        term int_rate  installment  \\\n",
       "0    10400.0      10400.0          10400.0   36 months    6.99%       321.08   \n",
       "1    15000.0      15000.0          15000.0   60 months   12.39%       336.64   \n",
       "2     9600.0       9600.0           9600.0   36 months   13.66%       326.53   \n",
       "3     7650.0       7650.0           7650.0   36 months   13.66%       260.20   \n",
       "4    12800.0      12800.0          12800.0   60 months   17.14%       319.08   \n",
       "\n",
       "  grade sub_grade                       emp_title emp_length  ...   \\\n",
       "0     A        A3  Truck Driver Delivery Personel    8 years  ...    \n",
       "1     C        C1                      MANAGEMENT  10+ years  ...    \n",
       "2     C        C3                Admin Specialist  10+ years  ...    \n",
       "3     C        C3            Technical Specialist   < 1 year  ...    \n",
       "4     D        D4       Senior Sales Professional  10+ years  ...    \n",
       "\n",
       "  percent_bc_gt_75  pub_rec_bankruptcies tax_liens tot_hi_cred_lim  \\\n",
       "0             14.3                   0.0       0.0        179407.0   \n",
       "1              0.0                   0.0       0.0        196500.0   \n",
       "2             60.0                   0.0       0.0         52490.0   \n",
       "3            100.0                   0.0       0.0         82331.0   \n",
       "4            100.0                   0.0       0.0        368700.0   \n",
       "\n",
       "  total_bal_ex_mort total_bc_limit total_il_high_credit_limit hardship_flag  \\\n",
       "0           15030.0        13000.0                    11325.0             N   \n",
       "1          149140.0        10000.0                    12000.0             N   \n",
       "2           38566.0        21100.0                    24890.0             N   \n",
       "3           64426.0         4900.0                    64031.0             N   \n",
       "4           18007.0         4400.0                    18000.0             N   \n",
       "\n",
       "  debt_settlement_flag  year  \n",
       "0                    N  2014  \n",
       "1                    N  2014  \n",
       "2                    N  2014  \n",
       "3                    N  2014  \n",
       "4                    N  2014  \n",
       "\n",
       "[5 rows x 87 columns]"
      ]
     },
     "execution_count": 2,
     "metadata": {},
     "output_type": "execute_result"
    }
   ],
   "source": [
    "# import the preliminary cleaned data in last section\n",
    "data = pd.read_csv('./data.csv')\n",
    "data.head()"
   ]
  },
  {
   "cell_type": "markdown",
   "metadata": {},
   "source": [
    "## Dive into the dataset, and get to know the features"
   ]
  },
  {
   "cell_type": "code",
   "execution_count": 3,
   "metadata": {},
   "outputs": [
    {
     "name": "stdout",
     "output_type": "stream",
     "text": [
      "['loan_amnt' 'funded_amnt' 'funded_amnt_inv' 'term' 'int_rate'\n",
      " 'installment' 'grade' 'sub_grade' 'emp_title' 'emp_length'\n",
      " 'home_ownership' 'annual_inc' 'verification_status' 'issue_d'\n",
      " 'loan_status' 'pymnt_plan' 'purpose' 'title' 'zip_code' 'addr_state'\n",
      " 'dti' 'delinq_2yrs' 'earliest_cr_line' 'inq_last_6mths' 'open_acc'\n",
      " 'pub_rec' 'revol_bal' 'revol_util' 'total_acc' 'initial_list_status'\n",
      " 'out_prncp' 'out_prncp_inv' 'total_pymnt' 'total_pymnt_inv'\n",
      " 'total_rec_prncp' 'total_rec_int' 'total_rec_late_fee' 'recoveries'\n",
      " 'collection_recovery_fee' 'last_pymnt_d' 'last_pymnt_amnt'\n",
      " 'last_credit_pull_d' 'collections_12_mths_ex_med' 'policy_code'\n",
      " 'application_type' 'acc_now_delinq' 'tot_coll_amt' 'tot_cur_bal'\n",
      " 'total_rev_hi_lim' 'acc_open_past_24mths' 'avg_cur_bal' 'bc_open_to_buy'\n",
      " 'bc_util' 'chargeoff_within_12_mths' 'delinq_amnt' 'mo_sin_old_il_acct'\n",
      " 'mo_sin_old_rev_tl_op' 'mo_sin_rcnt_rev_tl_op' 'mo_sin_rcnt_tl'\n",
      " 'mort_acc' 'mths_since_recent_bc' 'mths_since_recent_inq'\n",
      " 'num_accts_ever_120_pd' 'num_actv_bc_tl' 'num_actv_rev_tl' 'num_bc_sats'\n",
      " 'num_bc_tl' 'num_il_tl' 'num_op_rev_tl' 'num_rev_accts'\n",
      " 'num_rev_tl_bal_gt_0' 'num_sats' 'num_tl_120dpd_2m' 'num_tl_30dpd'\n",
      " 'num_tl_90g_dpd_24m' 'num_tl_op_past_12m' 'pct_tl_nvr_dlq'\n",
      " 'percent_bc_gt_75' 'pub_rec_bankruptcies' 'tax_liens' 'tot_hi_cred_lim'\n",
      " 'total_bal_ex_mort' 'total_bc_limit' 'total_il_high_credit_limit'\n",
      " 'hardship_flag' 'debt_settlement_flag' 'year']\n"
     ]
    }
   ],
   "source": [
    "print(data.columns.values)"
   ]
  },
  {
   "cell_type": "markdown",
   "metadata": {},
   "source": [
    "From the [data dictionary](https://www.lendingclub.com/info/download-data.action), the meanings of all the features are listed as follows:"
   ]
  },
  {
   "cell_type": "markdown",
   "metadata": {},
   "source": [
    "Loan related:\n",
    "\n",
    "| Feature | Explanation |\n",
    "| --- | --------- |\n",
    "|loan_amnt | The listed amount of the loan applied for by the borrower. |\n",
    "|funded_amnt | The total amount committed to that loan at that point in time.|\n",
    "|funded_amnt_inv |\tThe total amount committed by investors for that loan at that point in time.|\n",
    "|term | The number of payments on the loan. Values are in months and can be either 36 or 60.|\n",
    "|int_rate | Interest rate on the load.|\n",
    "|installment|The monthly payment owed by the borrower if the loan originates.|\n",
    "|grade|LC assigned loan grade.|\n",
    "|sub_grade|LC assigned loan subgrade.|\n",
    "|issue_d|The month which the loan was funded.|\n",
    "|loan_status|Current status of the loan.|\n",
    "|initial_list_status|The initial listing status of the loan. Possible values are – W, F.|\n",
    "|out_prncp|\tRemaining outstanding principal for total amount funded.|\n",
    "|out_prncp_inv|\tRemaining outstanding principal for portion of total amount funded by investors.|\n",
    "|total_pymnt|\tPayments received to date for total amount funded.|\n",
    "|total_pymnt_inv|\tPayments received to date for portion of total amount funded by investors.|\n",
    "|total_rec_int|\tInterest received to date.|\n",
    "|total_rec_late_fee|Late fees received to date.|\n",
    "|total_rec_prncp|Principal received to date.|\n",
    "|recoveries|post charge off gross recovery.|\n",
    "|collection_recovery_fee|\tpost charge off collection fee.|\n",
    "|policy_code|publicly available policy_code=1,new products not publicly available policy_code=2.|\n",
    "\n",
    "\n",
    "\n",
    "\n",
    "\n",
    "\n"
   ]
  },
  {
   "cell_type": "markdown",
   "metadata": {},
   "source": [
    "Borrower related:\n",
    "\n",
    "| Feature | Explanation |\n",
    "| --- | --------- |\n",
    "|emp_title | The job title supplied by the Borrower when applying for the loan. |\n",
    "|emp_length | Employment length in years. Possible values are between 0 and 10 where 0 means less than one year and 10 means ten or more years. |\n",
    "|home_ownership |\tThe home ownership status provided by the borrower during registration or obtained from the credit report. Our values are: RENT, OWN, MORTGAGE, OTHER.|\n",
    "|annual_inc | The self-reported annual income provided by the borrower during registration.|\n",
    "|verification_status | Indicates if income was verified by LC, not verified, or if the income source was verified.|\n",
    "|pymnt_plan|Indicates if a payment plan has been put in place for the loan.|\n",
    "|purpose|A category provided by the borrower for the loan request. |\n",
    "|title|The loan title provided by the borrower.|\n",
    "|zip_code, addr_state| The zipcode, state provided by the borrower in the loan application.|\n",
    "|dti|A ratio calculated using the borrower’s total monthly debt payments on the total debt obligations, excluding mortgage and the requested LC loan, divided by the borrower’s self-reported monthly income.|\n",
    "|delinq_2yrs|The number of 30+ days past-due incidences of delinquency in the borrower's credit file for the past 2 years.|\n",
    "|earliest_cr_line|The month the borrower's earliest reported credit line was opened.|\n",
    "|inq_last_6mths|The number of inquiries in past 6 months (excluding auto and mortgage inquiries).|\n",
    "|open_acc|The number of open credit lines in the borrower's credit file.|\n",
    "|mths_since_last_delinq(should get the column back)|The number of months since the borrower's last delinquency.\n",
    "|mths_since_last_record(should get the column back)|The number of months since the last public record.\n",
    "|pub_rec|Number of derogatory public records|\n",
    "|revol_bal|Total credit revolving balance\n",
    "|revol_util|Revolving line utilization rate, or the amount of credit the borrower is using relative to all available revolving credit.|\n",
    "|total_acc|The total number of credit lines currently in the borrower's credit file.|\n",
    "|last_credit_pull_d\t| The most recent month LC pulled credit for this loan.|\n",
    "|last_pymnt_amnt |\tLast total payment amount received.|\n",
    "|last_pymnt_d\t|Last month payment was received.|\n",
    "|collections_12_mths_ex_med|\tNumber of collections in 12 months excluding medical collections.|\n",
    "|application_type|Indicates whether the loan is an individual application or a joint application with two co-borrowers.|\n",
    "|acc_now_delinq|\tThe number of accounts on which the borrower is now delinquent.|\n",
    "|acc_open_past_24mths|\tNumber of trades opened in past 24 months.|\n",
    "|avg_cur_bal|\tAverage current balance of all accounts.|\n",
    "|tot_coll_amt|\tTotal collection amounts ever owed.|\n",
    "|tot_cur_bal|\tTotal current balance of all accounts.|\n",
    "|total_rev_hi_lim | \tTotal revolving high credit/credit limit.|\n",
    "|bc_open_to_buy|\tTotal open to buy on revolving bankcards.|\n",
    "|bc_util|\tRatio of total current balance to high credit/credit limit for all bankcard accounts.|\n",
    "|chargeoff_within_12_mths|\tNumber of charge-offs within 12 months.|\n",
    "|delinq_2yrs|\tThe number of 30+ days past-due incidences of delinquency in the borrower's credit file for the past 2 years.|\n",
    "|mo_sin_old_il_acct|\tMonths since oldest bank installment account opened.|\n",
    "|mo_sin_old_rev_tl_op|\tMonths since oldest revolving account opened.|\n",
    "|mo_sin_rcnt_rev_tl_op|\tMonths since most recent revolving account opened.|\n",
    "|mo_sin_rcnt_tl|\tMonths since most recent account opened.|\n",
    "|mort_acc|\tNumber of mortgage accounts.|\n",
    "|mths_since_recent_bc|\tMonths since most recent bankcard account opened.|\n",
    "|mths_since_recent_inq|\tMonths since most recent inquiry.|\n",
    "|num_accts_ever_120_pd|\tNumber of accounts ever 120 or more days past due|\n",
    "|num_actv_bc_tl|\tNumber of currently active bankcard accounts|\n",
    "|num_actv_rev_tl|\tNumber of currently active revolving trades|\n",
    "|num_bc_sats|\tNumber of satisfactory bankcard accounts|\n",
    "|num_bc_tl|\tNumber of bankcard accounts|\n",
    "|num_il_tl|\tNumber of installment accounts|\n",
    "|num_op_rev_tl|\tNumber of open revolving accounts|\n",
    "|num_rev_accts|\tNumber of revolving accounts|\n",
    "|num_rev_tl_bal_gt_0|\tNumber of revolving trades with balance >0|\n",
    "|num_sats|\tNumber of satisfactory accounts|\n",
    "|num_tl_120dpd_2m|\tNumber of accounts currently 120 days past due (updated in past 2 months)|\n",
    "|num_tl_30dpd|\tNumber of accounts currently 30 days past due (updated in past 2 months)|\n",
    "|num_tl_90g_dpd_24m|\tNumber of accounts 90 or more days past due in last 24 months|\n",
    "|num_tl_op_past_12m|\tNumber of accounts opened in past 12 months|\n",
    "|pct_tl_nvr_dlq|\tPercent of trades never delinquent|\n",
    "|percent_bc_gt_75|\tPercentage of all bankcard accounts > 75% of limit|\n",
    "|pub_rec_bankruptcies|\tNumber of public record bankruptcies|\n",
    "|tax_liens|\tNumber of tax liens|\n",
    "|tot_hi_cred_lim|\tTotal high credit/credit limit|\n",
    "|total_bal_ex_mort|\tTotal credit balance excluding mortgage|\n",
    "|total_bc_limit|\tTotal bankcard high credit/credit limit|\n",
    "|total_il_high_credit_limit|\tTotal installment high credit/credit limit|\n",
    "|hardship_flag|\tFlags whether or not the borrower is on a hardship plan|\n",
    "|debt_settlement_flag|\tFlags whether or not the borrower, who has charged-off, is working with a debt-settlement company|\n",
    "\n",
    "\n",
    "\n",
    "\n",
    "\n",
    "\n",
    "\n",
    "\n",
    "\n",
    "\n"
   ]
  },
  {
   "cell_type": "markdown",
   "metadata": {},
   "source": [
    "## Further feature selection"
   ]
  },
  {
   "cell_type": "markdown",
   "metadata": {},
   "source": [
    "After I get to know more about features, a few more features can be determined to be unrelevant. \n",
    "Such as: 1) issue date 2) total payment or last payment. As our model is intended to predict before the load is permitted, so payment issues will not be considered.\n",
    "Thus, those features will be deleted"
   ]
  },
  {
   "cell_type": "code",
   "execution_count": 4,
   "metadata": {},
   "outputs": [],
   "source": [
    "columns=['issue_d', 'pymnt_plan', 'out_prncp', 'out_prncp_inv', 'total_pymnt', 'total_pymnt_inv', 'total_rec_prncp', \n",
    "        'policy_code', 'total_rec_int', 'total_rec_late_fee', 'recoveries', 'collection_recovery_fee', 'last_pymnt_d', \n",
    "         'last_pymnt_amnt', 'last_credit_pull_d']"
   ]
  },
  {
   "cell_type": "code",
   "execution_count": 5,
   "metadata": {},
   "outputs": [],
   "source": [
    "data = data.drop(columns, axis=1)"
   ]
  },
  {
   "cell_type": "markdown",
   "metadata": {},
   "source": [
    "## Target feature selection"
   ]
  },
  {
   "cell_type": "markdown",
   "metadata": {},
   "source": [
    "loan_status should be selected as the lable, whether the sample of loan is in good or bad condition "
   ]
  },
  {
   "cell_type": "code",
   "execution_count": 6,
   "metadata": {},
   "outputs": [
    {
     "data": {
      "text/plain": [
       "Fully Paid            1002219\n",
       "Current                972189\n",
       "Charged Off            255339\n",
       "Late (31-120 days)      22478\n",
       "Issued                   8713\n",
       "In Grace Period          8572\n",
       "Late (16-30 days)        5546\n",
       "Default                  1710\n",
       "Name: loan_status, dtype: int64"
      ]
     },
     "execution_count": 6,
     "metadata": {},
     "output_type": "execute_result"
    }
   ],
   "source": [
    "data['loan_status'].value_counts()"
   ]
  },
  {
   "cell_type": "markdown",
   "metadata": {},
   "source": [
    "The definitions of each status are below. \n",
    " \n",
    "**Fully paid**: Loan has been fully repaid, either at the expiration of the 3- or 5-year year term or as a result of a prepayment.\n",
    "\n",
    "**Current**: Loan is up to date on all outstanding payments. \n",
    "\n",
    "**Charged Off**: Loan for which there is no longer a reasonable expectation of further payments. Upon Charge Off, the remaining principal balance of the Note is deducted from the account balance.\n",
    "\n",
    "**Issued**: New loan that has passed all LendingClub reviews, received full funding, and has been issued.\n",
    "\n",
    "**In Grace Period**: Loan is past due but within the 15-day grace period. \n",
    " \n",
    "**Late (16-30)**: Loan has not been current for 16 to 30 days. Learn more about the tools LendingClub has to deal with delinquent borrowers.\n",
    " \n",
    "**Late (31-120)**: Loan has not been current for 31 to 120 days. Learn more about the tools LendingClub has to deal with delinquent borrowers.\n",
    " \n",
    "**Default**: Loan has not been current for an extended period of time. \n",
    "\n"
   ]
  },
  {
   "cell_type": "markdown",
   "metadata": {},
   "source": [
    "\n",
    "**Current** and **Issued** loan is still in progress, so it is hard to determine whether it is good or bad eventually. Samples with these two labels will be neglected. Here, I assume the loan is good, if it is **Fully paid**; while status labeled as **Charged Off**,**Default**, **In Grace Period**,**Late (16-30)**,and **Late (31-120)** are viewed as bad loan. "
   ]
  },
  {
   "cell_type": "code",
   "execution_count": 7,
   "metadata": {},
   "outputs": [],
   "source": [
    "# delete the loan_status = Current and Issued\n",
    "data = data[~data['loan_status'].isin(['Current','Issued'])]"
   ]
  },
  {
   "cell_type": "code",
   "execution_count": 8,
   "metadata": {},
   "outputs": [
    {
     "data": {
      "text/plain": [
       "Fully Paid            1002219\n",
       "Charged Off            255339\n",
       "Late (31-120 days)      22478\n",
       "In Grace Period          8572\n",
       "Late (16-30 days)        5546\n",
       "Default                  1710\n",
       "Name: loan_status, dtype: int64"
      ]
     },
     "execution_count": 8,
     "metadata": {},
     "output_type": "execute_result"
    }
   ],
   "source": [
    "data['loan_status'].value_counts()"
   ]
  },
  {
   "cell_type": "code",
   "execution_count": 9,
   "metadata": {},
   "outputs": [
    {
     "name": "stdout",
     "output_type": "stream",
     "text": [
      "<class 'pandas.core.frame.DataFrame'>\n",
      "Int64Index: 1295896 entries, 0 to 2276797\n",
      "Columns: 73 entries, loan_amnt to target\n",
      "dtypes: float64(52), int64(2), object(19)\n",
      "memory usage: 731.6+ MB\n"
     ]
    }
   ],
   "source": [
    "# Encoding the loan_status\n",
    "# status 1: 'Charged Off', 'Late (31-120 days)', 'In Grace Period', 'Late (16-30 days)', Default'\n",
    "# status 0: 'Fully Paid'\n",
    "data['target'] = 1\n",
    "data.loc[data['loan_status'] == 'Fully Paid', 'target'] = 0\n",
    "\n",
    "data.info(verbose=False)"
   ]
  },
  {
   "cell_type": "code",
   "execution_count": 10,
   "metadata": {},
   "outputs": [],
   "source": [
    "data = data.drop('loan_status', axis=1)"
   ]
  },
  {
   "cell_type": "code",
   "execution_count": 11,
   "metadata": {},
   "outputs": [
    {
     "name": "stdout",
     "output_type": "stream",
     "text": [
      "<class 'pandas.core.frame.DataFrame'>\n",
      "Int64Index: 1295896 entries, 0 to 2276797\n",
      "Columns: 72 entries, loan_amnt to target\n",
      "dtypes: float64(52), int64(2), object(18)\n",
      "memory usage: 721.7+ MB\n"
     ]
    }
   ],
   "source": [
    "data.info(verbose=False)"
   ]
  },
  {
   "cell_type": "markdown",
   "metadata": {},
   "source": [
    "Now the dataset has been reduced to around 1.3 million samples, with 71 features. Samples with target=1 means bad loan, while target=0 means good loan."
   ]
  },
  {
   "cell_type": "code",
   "execution_count": 12,
   "metadata": {},
   "outputs": [],
   "source": [
    "# save to local disk\n",
    "data.to_csv('./data.csv', index=False)"
   ]
  },
  {
   "cell_type": "code",
   "execution_count": null,
   "metadata": {},
   "outputs": [],
   "source": []
  }
 ],
 "metadata": {
  "kernelspec": {
   "display_name": "Python 3",
   "language": "python",
   "name": "python3"
  },
  "language_info": {
   "codemirror_mode": {
    "name": "ipython",
    "version": 3
   },
   "file_extension": ".py",
   "mimetype": "text/x-python",
   "name": "python",
   "nbconvert_exporter": "python",
   "pygments_lexer": "ipython3",
   "version": "3.7.1"
  }
 },
 "nbformat": 4,
 "nbformat_minor": 2
}
